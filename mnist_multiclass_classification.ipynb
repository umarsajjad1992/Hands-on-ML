{
 "cells": [
  {
   "cell_type": "code",
   "execution_count": 63,
   "id": "39257b58",
   "metadata": {},
   "outputs": [],
   "source": [
    "# importing the MNIST dataset\n",
    "from sklearn.datasets import fetch_openml\n",
    "import numpy as np\n",
    "# Let's take peak at one example from the dataset\n",
    "# Let's make function that plots the digit\n",
    "import matplotlib.pyplot as plt\n",
    "from numpy import random\n",
    "# fetch_* functions load reaal-life datasets\n",
    "# load_* fucntons load small toy datasets\n",
    "# make_* functions make fake datasets\n",
    "# The generated datasets are returend as (X, y) tuples\n",
    "# The generated datasets contain input data and targets as NumPy arrays\n",
    "# Other datasets are returned as sklearn.utils.Bunch objects\n",
    "# These datasets are dictionaries whose entries can be accessed\n",
    "# The attirbutes for access are: \"DESCR\", \"data\", \"target\"\n",
    "# DESCR: returns the description of the dataset\n",
    "# data: The input data, usually as a 2D NumPy array\n",
    "# target: The labels, usually as 1D numpy array\n",
    "mnist = fetch_openml('mnist_784', as_frame=False)\n",
    "# fetch_openml() returns data as pandas df and labels as pandas series\n",
    "# This is unusual for MNIST dataset which contains images and isnt ideal\n",
    "# To get data as NumPy arrays instead we set \"as_frame=False\""
   ]
  },
  {
   "cell_type": "code",
   "execution_count": 4,
   "id": "f7def215",
   "metadata": {},
   "outputs": [
    {
     "data": {
      "text/plain": [
       "array([[0., 0., 0., ..., 0., 0., 0.],\n",
       "       [0., 0., 0., ..., 0., 0., 0.],\n",
       "       [0., 0., 0., ..., 0., 0., 0.],\n",
       "       ...,\n",
       "       [0., 0., 0., ..., 0., 0., 0.],\n",
       "       [0., 0., 0., ..., 0., 0., 0.],\n",
       "       [0., 0., 0., ..., 0., 0., 0.]])"
      ]
     },
     "execution_count": 4,
     "metadata": {},
     "output_type": "execute_result"
    }
   ],
   "source": [
    "# Let's store the data into variables for ease of access\n",
    "X, y = mnist.data, mnist.target\n",
    "X"
   ]
  },
  {
   "cell_type": "code",
   "execution_count": 5,
   "id": "03bcf316",
   "metadata": {},
   "outputs": [
    {
     "name": "stdout",
     "output_type": "stream",
     "text": [
      "(70000, 784)\n",
      "(70000,)\n"
     ]
    }
   ],
   "source": [
    "# Let's take a look at the shapes of the X (inputs) and y (labels)\n",
    "print(X.shape)\n",
    "print(y.shape)"
   ]
  },
  {
   "cell_type": "code",
   "execution_count": 6,
   "id": "fa391a09",
   "metadata": {},
   "outputs": [
    {
     "data": {
      "image/png": "[encoded data removed]",
      "text/plain": [
       "<Figure size 640x480 with 1 Axes>"
      ]
     },
     "metadata": {},
     "output_type": "display_data"
    }
   ],
   "source": [
    "# Let's take peak at one example from the dataset\n",
    "# Let's make function that plots the digit\n",
    "import matplotlib.pyplot as plt\n",
    "from numpy import random\n",
    "# we are going to use imshow() function of matplotlib to display the image\n",
    "# we use cmap=\"binary\" to get a grayscale color map (0=white, 255=black)\n",
    "\n",
    "def plot_digit(image_data):\n",
    "    image = image_data.reshape(28, 28)\n",
    "    plt.imshow(image, cmap=\"binary\")\n",
    "    plt.axis(\"off\")\n",
    "\n",
    "# Let's plot the image\n",
    "dig_ind = random.randint(70000)\n",
    "digit = X[dig_ind]\n",
    "plot_digit(digit)\n",
    "plt.show()"
   ]
  },
  {
   "cell_type": "code",
   "execution_count": 7,
   "id": "3308e498",
   "metadata": {},
   "outputs": [],
   "source": [
    "# Before we do any preprocessing and inspection it is essential we split\n",
    "# The data to ensure we don't mess around with the test data\n",
    "# Let's split the data into train and test\n",
    "from sklearn.model_selection import train_test_split \n",
    "X_train, X_test, y_train, y_test = train_test_split(X, y, \n",
    "                                                    test_size=0.2, \n",
    "                                                    random_state=42)"
   ]
  },
  {
   "cell_type": "markdown",
   "id": "12356862",
   "metadata": {},
   "source": [
    "### $\\color{red}{\\text{Important Points}}$\n",
    "* Scikit-Learn classifiers (e.g., LogisticRegression, RandomForestClassifier, and GaussianNB) are capable of handling multiple classes natively.\n",
    "* Others are strictly binary classifiers (e.g., SGDClassifier and SVC)\n",
    "* However, there are various strategies that you can use to perform multiclass classification with multiple binary classifiers\n",
    "* one-versus-the-rest (OvR) strategy, or sometimes one-versus-all (OvA)\n",
    "* One-versus-one (OvO) strategy\n",
    "* Some algorithms (such as support vector machine classifiers) scale poorly with the size of the training set\n",
    "* For these algorithms OvO is preferred because it is faster to train many classifiers on small training sets than to train few classifiers on large training sets. For most binary classification algorithms, however, OvR is preferred\n",
    "* Scikit-Learn detects when you try to use a binary classification algorithm fora multiclass classification task, and it automatically runs OvR or OvO, depending on the algorithm"
   ]
  },
  {
   "cell_type": "code",
   "execution_count": 13,
   "id": "c1934c92",
   "metadata": {},
   "outputs": [
    {
     "data": {
      "text/html": [
       "<style>#sk-container-id-1 {color: black;background-color: white;}#sk-container-id-1 pre{padding: 0;}#sk-container-id-1 div.sk-toggleable {background-color: white;}#sk-container-id-1 label.sk-toggleable__label {cursor: pointer;display: block;width: 100%;margin-bottom: 0;padding: 0.3em;box-sizing: border-box;text-align: center;}#sk-container-id-1 label.sk-toggleable__label-arrow:before {content: \"▸\";float: left;margin-right: 0.25em;color: #696969;}#sk-container-id-1 label.sk-toggleable__label-arrow:hover:before {color: black;}#sk-container-id-1 div.sk-estimator:hover label.sk-toggleable__label-arrow:before {color: black;}#sk-container-id-1 div.sk-toggleable__content {max-height: 0;max-width: 0;overflow: hidden;text-align: left;background-color: #f0f8ff;}#sk-container-id-1 div.sk-toggleable__content pre {margin: 0.2em;color: black;border-radius: 0.25em;background-color: #f0f8ff;}#sk-container-id-1 input.sk-toggleable__control:checked~div.sk-toggleable__content {max-height: 200px;max-width: 100%;overflow: auto;}#sk-container-id-1 input.sk-toggleable__control:checked~label.sk-toggleable__label-arrow:before {content: \"▾\";}#sk-container-id-1 div.sk-estimator input.sk-toggleable__control:checked~label.sk-toggleable__label {background-color: #d4ebff;}#sk-container-id-1 div.sk-label input.sk-toggleable__control:checked~label.sk-toggleable__label {background-color: #d4ebff;}#sk-container-id-1 input.sk-hidden--visually {border: 0;clip: rect(1px 1px 1px 1px);clip: rect(1px, 1px, 1px, 1px);height: 1px;margin: -1px;overflow: hidden;padding: 0;position: absolute;width: 1px;}#sk-container-id-1 div.sk-estimator {font-family: monospace;background-color: #f0f8ff;border: 1px dotted black;border-radius: 0.25em;box-sizing: border-box;margin-bottom: 0.5em;}#sk-container-id-1 div.sk-estimator:hover {background-color: #d4ebff;}#sk-container-id-1 div.sk-parallel-item::after {content: \"\";width: 100%;border-bottom: 1px solid gray;flex-grow: 1;}#sk-container-id-1 div.sk-label:hover label.sk-toggleable__label {background-color: #d4ebff;}#sk-container-id-1 div.sk-serial::before {content: \"\";position: absolute;border-left: 1px solid gray;box-sizing: border-box;top: 0;bottom: 0;left: 50%;z-index: 0;}#sk-container-id-1 div.sk-serial {display: flex;flex-direction: column;align-items: center;background-color: white;padding-right: 0.2em;padding-left: 0.2em;position: relative;}#sk-container-id-1 div.sk-item {position: relative;z-index: 1;}#sk-container-id-1 div.sk-parallel {display: flex;align-items: stretch;justify-content: center;background-color: white;position: relative;}#sk-container-id-1 div.sk-item::before, #sk-container-id-1 div.sk-parallel-item::before {content: \"\";position: absolute;border-left: 1px solid gray;box-sizing: border-box;top: 0;bottom: 0;left: 50%;z-index: -1;}#sk-container-id-1 div.sk-parallel-item {display: flex;flex-direction: column;z-index: 1;position: relative;background-color: white;}#sk-container-id-1 div.sk-parallel-item:first-child::after {align-self: flex-end;width: 50%;}#sk-container-id-1 div.sk-parallel-item:last-child::after {align-self: flex-start;width: 50%;}#sk-container-id-1 div.sk-parallel-item:only-child::after {width: 0;}#sk-container-id-1 div.sk-dashed-wrapped {border: 1px dashed gray;margin: 0 0.4em 0.5em 0.4em;box-sizing: border-box;padding-bottom: 0.4em;background-color: white;}#sk-container-id-1 div.sk-label label {font-family: monospace;font-weight: bold;display: inline-block;line-height: 1.2em;}#sk-container-id-1 div.sk-label-container {text-align: center;}#sk-container-id-1 div.sk-container {/* jupyter's `normalize.less` sets `[hidden] { display: none; }` but bootstrap.min.css set `[hidden] { display: none !important; }` so we also need the `!important` here to be able to override the default hidden behavior on the sphinx rendered scikit-learn.org. See: https://github.com/scikit-learn/scikit-learn/issues/21755 */display: inline-block !important;position: relative;}#sk-container-id-1 div.sk-text-repr-fallback {display: none;}</style><div id=\"sk-container-id-1\" class=\"sk-top-container\"><div class=\"sk-text-repr-fallback\"><pre>SVC(random_state=42)</pre><b>In a Jupyter environment, please rerun this cell to show the HTML representation or trust the notebook. <br />On GitHub, the HTML representation is unable to render, please try loading this page with nbviewer.org.</b></div><div class=\"sk-container\" hidden><div class=\"sk-item\"><div class=\"sk-estimator sk-toggleable\"><input class=\"sk-toggleable__control sk-hidden--visually\" id=\"sk-estimator-id-1\" type=\"checkbox\" checked><label for=\"sk-estimator-id-1\" class=\"sk-toggleable__label sk-toggleable__label-arrow\">SVC</label><div class=\"sk-toggleable__content\"><pre>SVC(random_state=42)</pre></div></div></div></div></div>"
      ],
      "text/plain": [
       "SVC(random_state=42)"
      ]
     },
     "execution_count": 13,
     "metadata": {},
     "output_type": "execute_result"
    }
   ],
   "source": [
    "# Let's implement this using an SVC\n",
    "from sklearn.svm import SVC\n",
    "\n",
    "# Let's create an instant of svm classifer and train a model\n",
    "svm_clf = SVC(random_state=42)\n",
    "svm_clf.fit(X_train[:2000], y_train[:2000])"
   ]
  },
  {
   "cell_type": "code",
   "execution_count": 60,
   "id": "99b8dc2d",
   "metadata": {},
   "outputs": [
    {
     "data": {
      "text/plain": [
       "array(['5'], dtype=object)"
      ]
     },
     "execution_count": 60,
     "metadata": {},
     "output_type": "execute_result"
    }
   ],
   "source": [
    "# Let's predict 5 from the model\n",
    "\n",
    "# Let's get all the digits where the digit is 5\n",
    "index_5 = np.where(y_test == '5')[0]\n",
    "digit = X_test[index_5[0]]\n",
    "svm_clf.predict([digit])"
   ]
  },
  {
   "cell_type": "code",
   "execution_count": 64,
   "id": "e4bf2836",
   "metadata": {},
   "outputs": [],
   "source": [
    "# A function that plots images\n",
    "def plot_digit(image_data):\n",
    "    image = image_data.reshape(28, 28)\n",
    "    plt.imshow(image, cmap=\"binary\")\n",
    "    plt.axis(\"off\")"
   ]
  },
  {
   "cell_type": "code",
   "execution_count": 67,
   "id": "187080c1",
   "metadata": {},
   "outputs": [
    {
     "data": {
      "image/png": "[encoded data removed]",
      "text/plain": [
       "<Figure size 640x480 with 1 Axes>"
      ]
     },
     "metadata": {},
     "output_type": "display_data"
    }
   ],
   "source": [
    "plot_digit(digit)"
   ]
  },
  {
   "cell_type": "markdown",
   "id": "9c7f17af",
   "metadata": {},
   "source": [
    "* We trained the SVC using the original target classes from 0 to 9 (y_train), instead of the 5-versus-the-rest target classes (y_train_5)\n",
    "* Since there are 10 classes (i.e., more than 2), Scikit-Learn used the OvO strategy and trained 45 binary classifiers\n",
    "* This code actually made 45 predictions—one per pair of classes—and it selected the class that won the most duels. If you call the decision_function() method, you will see that it returns 10 scores per instance: one per class\n",
    "* Each class gets a score equal to the number of won duels plus or minus a small tweak (max ±0.33) to break ties, based on the classifier scores"
   ]
  },
  {
   "cell_type": "code",
   "execution_count": 69,
   "id": "32f35945",
   "metadata": {},
   "outputs": [
    {
     "data": {
      "text/plain": [
       "array([[ 4.83, -0.29,  5.76,  7.27,  2.74,  9.31,  1.73,  0.72,  8.3 ,\n",
       "         3.77]])"
      ]
     },
     "execution_count": 69,
     "metadata": {},
     "output_type": "execute_result"
    }
   ],
   "source": [
    "# Let's see the scores\n",
    "digit_scores = svm_clf.decision_function([digit])\n",
    "digit_scores.round(2)"
   ]
  },
  {
   "cell_type": "markdown",
   "id": "6b4b2f74",
   "metadata": {},
   "source": [
    "* The highest score is 9.3, and it’s indeed the one corresponding to class 5 "
   ]
  },
  {
   "cell_type": "code",
   "execution_count": 70,
   "id": "0912bc5c",
   "metadata": {},
   "outputs": [
    {
     "name": "stdout",
     "output_type": "stream",
     "text": [
      "5\n"
     ]
    }
   ],
   "source": [
    "class_id = digit_scores.argmax()\n",
    "print(class_id)"
   ]
  },
  {
   "cell_type": "code",
   "execution_count": null,
   "id": "891aed2d",
   "metadata": {},
   "outputs": [],
   "source": []
  }
 ],
 "metadata": {
  "kernelspec": {
   "display_name": "Python 3 (ipykernel)",
   "language": "python",
   "name": "python3"
  },
  "language_info": {
   "codemirror_mode": {
    "name": "ipython",
    "version": 3
   },
   "file_extension": ".py",
   "mimetype": "text/x-python",
   "name": "python",
   "nbconvert_exporter": "python",
   "pygments_lexer": "ipython3",
   "version": "3.10.9"
  }
 },
 "nbformat": 4,
 "nbformat_minor": 5
}
