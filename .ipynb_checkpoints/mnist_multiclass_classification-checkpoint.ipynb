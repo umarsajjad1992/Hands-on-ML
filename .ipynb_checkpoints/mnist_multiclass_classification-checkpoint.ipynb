{
 "cells": [
  {
   "cell_type": "code",
   "execution_count": null,
   "id": "4e04e10f",
   "metadata": {},
   "outputs": [],
   "source": [
    "# importing the MNIST dataset\n",
    "from sklearn.datasets import fetch_openml\n",
    "import numpy as np\n",
    "# fetch_* functions load reaal-life datasets\n",
    "# load_* fucntons load small toy datasets\n",
    "# make_* functions make fake datasets\n",
    "# The generated datasets are returend as (X, y) tuples\n",
    "# The generated datasets contain input data and targets as NumPy arrays\n",
    "# Other datasets are returned as sklearn.utils.Bunch objects\n",
    "# These datasets are dictionaries whose entries can be accessed\n",
    "# The attirbutes for access are: \"DESCR\", \"data\", \"target\"\n",
    "# DESCR: returns the description of the dataset\n",
    "# data: The input data, usually as a 2D NumPy array\n",
    "# target: The labels, usually as 1D numpy array\n",
    "mnist = fetch_openml('mnist_784', as_frame=False)\n",
    "# fetch_openml() returns data as pandas df and labels as pandas series\n",
    "# This is unusual for MNIST dataset which contains images and isnt ideal\n",
    "# To get data as NumPy arrays instead we set \"as_frame=False\" "
   ]
  }
 ],
 "metadata": {
  "kernelspec": {
   "display_name": "Python 3 (ipykernel)",
   "language": "python",
   "name": "python3"
  },
  "language_info": {
   "codemirror_mode": {
    "name": "ipython",
    "version": 3
   },
   "file_extension": ".py",
   "mimetype": "text/x-python",
   "name": "python",
   "nbconvert_exporter": "python",
   "pygments_lexer": "ipython3",
   "version": "3.10.9"
  }
 },
 "nbformat": 4,
 "nbformat_minor": 5
}
